{
 "cells": [
  {
   "cell_type": "markdown",
   "metadata": {},
   "source": [
    "## Navigation\n",
    "1. **Subreddit Scrapping**\n",
    "2. Working Notebook\n",
    "    1. Background\n",
    "    2. Executive Summary\n",
    "    3. Problem Statement\n",
    "    4. Methodology \n",
    "    5. Data Import\n",
    "    6. Data Preprocessing\n",
    "    7. Exploratory Data Analysis (EDA)\n",
    "    8. Model and Evaluation\n",
    "    9. Final Model Selection and Threshold Selection\n",
    "    10. Conclusion and Recommendation"
   ]
  },
  {
   "cell_type": "code",
   "execution_count": 1,
   "metadata": {},
   "outputs": [],
   "source": [
    "import requests\n",
    "import json\n",
    "import pandas as pd\n",
    "import time\n",
    "import re"
   ]
  },
  {
   "cell_type": "code",
   "execution_count": 2,
   "metadata": {},
   "outputs": [],
   "source": [
    "#function to get the reddit post\n",
    "def request_post(subreddit,n):\n",
    "    url = 'https://api.pushshift.io/reddit/search/submission'\n",
    "    post = []\n",
    "    utc = 1667738423\n",
    "    while len(post) < n: #1000 for validation set and 5000 for training set & test set\n",
    "        params = {\n",
    "            'subreddit': subreddit,\n",
    "            'size': 100, \n",
    "            'before': utc\n",
    "        }\n",
    "        req = requests.get(url,params)\n",
    "        if req.status_code == 200:\n",
    "            data = req.json()\n",
    "            new_data = data['data']\n",
    "            for new in new_data:\n",
    "                post.append(new)\n",
    "                if new['created_utc'] < utc:\n",
    "                    utc = new['created_utc']\n",
    "        time.sleep(2)\n",
    "        print(utc)#making sure it pulls earlier data\n",
    "    return post"
   ]
  },
  {
   "cell_type": "code",
   "execution_count": 3,
   "metadata": {},
   "outputs": [
    {
     "name": "stdout",
     "output_type": "stream",
     "text": [
      "1667584128\n",
      "1667507671\n",
      "1667418236\n",
      "1667325290\n",
      "1667227085\n",
      "1667120148\n",
      "1666979572\n",
      "1666902699\n",
      "1666827724\n",
      "1666750397\n",
      "1666667036\n",
      "1666574197\n",
      "1666454411\n",
      "1666316019\n",
      "1666208093\n",
      "1666115465\n",
      "1666015020\n",
      "1665897013\n",
      "1665785671\n",
      "1665685510\n",
      "1665597893\n",
      "1665515066\n",
      "1665434783\n",
      "1665340835\n",
      "1665225813\n",
      "1665112456\n",
      "1665011460\n",
      "1664916269\n",
      "1664835505\n",
      "1664749083\n",
      "1664648227\n",
      "1664555302\n",
      "1664472696\n",
      "1664383098\n",
      "1664308891\n",
      "1664219982\n",
      "1664130761\n",
      "1664006880\n",
      "1663931551\n",
      "1663836824\n",
      "1663735193\n",
      "1663647033\n",
      "1663532250\n",
      "1663412461\n",
      "1663303897\n",
      "1663194183\n",
      "1663097514\n",
      "1662993164\n",
      "1662860823\n",
      "1662739722\n",
      "1662644361\n",
      "1662547546\n",
      "1662456608\n",
      "1662343395\n",
      "1662230265\n",
      "1662133291\n",
      "1662048227\n",
      "1661961642\n",
      "1661889080\n",
      "1661805149\n",
      "1661704912\n",
      "1661554280\n",
      "1661470144\n",
      "1661419809\n",
      "1661345234\n",
      "1661264313\n",
      "1661187810\n",
      "1661111689\n",
      "1661002684\n",
      "1660920968\n",
      "1660836672\n",
      "1660765294\n",
      "1660694273\n",
      "1660638141\n",
      "1660558211\n",
      "1660437861\n",
      "1660341811\n",
      "1660280825\n",
      "1660194280\n",
      "1660133714\n",
      "1660049383\n",
      "1659975330\n",
      "1659889890\n",
      "1659755952\n",
      "1659657356\n",
      "1659591983\n",
      "1659535410\n",
      "1659456674\n",
      "1659376457\n",
      "1659279978\n",
      "1659155556\n",
      "1659091822\n",
      "1659032247\n",
      "1658973866\n",
      "1658895845\n",
      "1658827811\n",
      "1658737475\n",
      "1658606655\n",
      "1658508386\n",
      "1658414794\n",
      "1658331348\n"
     ]
    }
   ],
   "source": [
    "stocks = request_post('stocks',10000) #validating that all data is captured from different timing"
   ]
  },
  {
   "cell_type": "code",
   "execution_count": 4,
   "metadata": {},
   "outputs": [
    {
     "name": "stdout",
     "output_type": "stream",
     "text": [
      "1667718719\n",
      "1667692721\n",
      "1667677850\n",
      "1667666722\n",
      "1667657446\n",
      "1667645911\n",
      "1667624330\n",
      "1667605929\n",
      "1667591465\n",
      "1667577691\n",
      "1667567425\n",
      "1667553994\n",
      "1667537296\n",
      "1667520218\n",
      "1667502654\n",
      "1667491499\n",
      "1667479184\n",
      "1667466874\n",
      "1667450100\n",
      "1667432415\n",
      "1667418418\n",
      "1667406899\n",
      "1667395256\n",
      "1667380857\n",
      "1667361525\n",
      "1667337944\n",
      "1667324858\n",
      "1667312204\n",
      "1667301265\n",
      "1667282352\n",
      "1667260803\n",
      "1667240023\n",
      "1667227304\n",
      "1667214228\n",
      "1667195331\n",
      "1667166002\n",
      "1667150116\n",
      "1667135177\n",
      "1667113444\n",
      "1667085476\n",
      "1667068257\n",
      "1667053420\n",
      "1667039446\n",
      "1667020796\n",
      "1666996824\n",
      "1666982034\n",
      "1666969217\n",
      "1666954768\n",
      "1666935872\n",
      "1666916176\n",
      "1666898166\n",
      "1666887481\n",
      "1666876915\n",
      "1666866018\n",
      "1666850275\n",
      "1666831867\n",
      "1666816613\n",
      "1666806737\n",
      "1666795907\n",
      "1666781419\n",
      "1666766553\n",
      "1666746336\n",
      "1666732155\n",
      "1666721687\n",
      "1666710306\n",
      "1666700565\n",
      "1666687084\n",
      "1666668772\n",
      "1666649328\n",
      "1666638257\n",
      "1666627888\n",
      "1666616533\n",
      "1666602419\n",
      "1666576162\n",
      "1666555974\n",
      "1666537802\n",
      "1666524244\n",
      "1666499117\n",
      "1666477236\n",
      "1666459186\n",
      "1666439330\n",
      "1666409177\n",
      "1666384506\n",
      "1666371868\n",
      "1666360176\n",
      "1666348442\n",
      "1666329541\n",
      "1666306929\n",
      "1666294684\n",
      "1666282292\n",
      "1666271311\n",
      "1666257424\n",
      "1666232342\n",
      "1666212353\n",
      "1666196924\n",
      "1666184195\n",
      "1666164514\n",
      "1666140870\n",
      "1666122138\n",
      "1666107918\n",
      "1666095397\n"
     ]
    }
   ],
   "source": [
    "crypto = request_post('CryptoCurrency',10000) #validating that all data is captured from different timing"
   ]
  },
  {
   "cell_type": "code",
   "execution_count": 33,
   "metadata": {},
   "outputs": [],
   "source": [
    "stocks = pd.DataFrame(stocks)\n",
    "stocks = stocks[['selftext','title','author','subreddit']]\n",
    "\n",
    "crypto = pd.DataFrame(crypto)\n",
    "crypto = crypto[['selftext','title','author','subreddit']]"
   ]
  },
  {
   "cell_type": "code",
   "execution_count": 43,
   "metadata": {},
   "outputs": [],
   "source": [
    "df = pd.concat([stocks,crypto])"
   ]
  },
  {
   "cell_type": "code",
   "execution_count": 44,
   "metadata": {},
   "outputs": [
    {
     "name": "stdout",
     "output_type": "stream",
     "text": [
      "There are 503 duplicated data dropped.\n"
     ]
    }
   ],
   "source": [
    "#first, remove those duplicates\n",
    "df['check'] = df['selftext'] + df['title'] + df['author']\n",
    "initial = df.shape[0]\n",
    "df.drop_duplicates(subset = ['check'],keep = 'first',inplace=True)\n",
    "after = df.shape[0]\n",
    "print(f'There are {initial-after} duplicated data dropped.')"
   ]
  },
  {
   "cell_type": "code",
   "execution_count": 45,
   "metadata": {},
   "outputs": [
    {
     "name": "stdout",
     "output_type": "stream",
     "text": [
      "There are 67 common authors between stocks and CryptoCurrency subreddits.\n"
     ]
    }
   ],
   "source": [
    "#author\n",
    "stocks_author = df[df['subreddit']=='stocks']['author']\n",
    "crypto_author = df[df['subreddit']=='CryptoCurrency']['author']\n",
    "common_author = set(stocks_author)&set(crypto_author)\n",
    "print(f'There are {len(common_author)} common authors between stocks and CryptoCurrency subreddits.')"
   ]
  },
  {
   "cell_type": "code",
   "execution_count": 46,
   "metadata": {},
   "outputs": [
    {
     "name": "stderr",
     "output_type": "stream",
     "text": [
      "/var/folders/tg/8mpzp58s7wd9h25zt2bffqd00000gn/T/ipykernel_31647/4047564485.py:4: SettingWithCopyWarning: \n",
      "A value is trying to be set on a copy of a slice from a DataFrame\n",
      "\n",
      "See the caveats in the documentation: https://pandas.pydata.org/pandas-docs/stable/user_guide/indexing.html#returning-a-view-versus-a-copy\n",
      "  df_self.rename(columns={'selftext':'post'},inplace=True)\n",
      "/var/folders/tg/8mpzp58s7wd9h25zt2bffqd00000gn/T/ipykernel_31647/4047564485.py:5: SettingWithCopyWarning: \n",
      "A value is trying to be set on a copy of a slice from a DataFrame\n",
      "\n",
      "See the caveats in the documentation: https://pandas.pydata.org/pandas-docs/stable/user_guide/indexing.html#returning-a-view-versus-a-copy\n",
      "  df_title.rename(columns={'title':'post'},inplace=True)\n"
     ]
    }
   ],
   "source": [
    "#making title and self text as 2 different rows\n",
    "df_self = df[['selftext','author','subreddit']]\n",
    "df_title = df[['title','author','subreddit']]\n",
    "df_self.rename(columns={'selftext':'post'},inplace=True)\n",
    "df_title.rename(columns={'title':'post'},inplace=True)\n",
    "df_separated = pd.concat([df_self,df_title])"
   ]
  },
  {
   "cell_type": "code",
   "execution_count": 47,
   "metadata": {},
   "outputs": [
    {
     "name": "stdout",
     "output_type": "stream",
     "text": [
      "<class 'pandas.core.frame.DataFrame'>\n",
      "Int64Index: 39358 entries, 0 to 10085\n",
      "Data columns (total 3 columns):\n",
      " #   Column     Non-Null Count  Dtype \n",
      "---  ------     --------------  ----- \n",
      " 0   post       39357 non-null  object\n",
      " 1   author     39358 non-null  object\n",
      " 2   subreddit  39358 non-null  object\n",
      "dtypes: object(3)\n",
      "memory usage: 1.2+ MB\n"
     ]
    }
   ],
   "source": [
    "df_separated.info()"
   ]
  },
  {
   "cell_type": "code",
   "execution_count": 48,
   "metadata": {},
   "outputs": [
    {
     "data": {
      "text/plain": [
       "[removed]    8621\n",
       "             5034\n",
       "[deleted]       8\n",
       "Name: post, dtype: int64"
      ]
     },
     "execution_count": 48,
     "metadata": {},
     "output_type": "execute_result"
    }
   ],
   "source": [
    "#filling in the null values on the selftext, although these posts were removed by moderators, we would like our model to be able to recognize these outliers as well\n",
    "df_separated['post'].loc[(df_separated['post']=='[removed]')|(df_separated['post']=='[deleted]')|(df_separated['post']== '')].value_counts()"
   ]
  },
  {
   "cell_type": "code",
   "execution_count": 49,
   "metadata": {},
   "outputs": [],
   "source": [
    "#removing those with null values along with removed and deleted posts\n",
    "df_separated['post']=df_separated['post'].replace(['[deleted]','[removed]',''],None)\n",
    "df_separated=df_separated[df_separated['post'].notnull()]\n",
    "#df_separated.drop(columns='author',inplace=True)\n",
    "df_separated.to_csv('../data/subreddit_data.csv',index=None)"
   ]
  }
 ],
 "metadata": {
  "kernelspec": {
   "display_name": "Python 3.10.6 64-bit",
   "language": "python",
   "name": "python3"
  },
  "language_info": {
   "codemirror_mode": {
    "name": "ipython",
    "version": 3
   },
   "file_extension": ".py",
   "mimetype": "text/x-python",
   "name": "python",
   "nbconvert_exporter": "python",
   "pygments_lexer": "ipython3",
   "version": "3.10.6"
  },
  "orig_nbformat": 4,
  "vscode": {
   "interpreter": {
    "hash": "aee8b7b246df8f9039afb4144a1f6fd8d2ca17a180786b69acc140d282b71a49"
   }
  }
 },
 "nbformat": 4,
 "nbformat_minor": 2
}
