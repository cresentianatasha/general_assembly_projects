{
 "cells": [
  {
   "cell_type": "markdown",
   "metadata": {},
   "source": [
    "# Bitcoin Price Change Prediction Utilizing Twitter Sentiment Data and Volume"
   ]
  },
  {
   "cell_type": "markdown",
   "metadata": {},
   "source": [
    "Notebook Navigation:\n",
    "1. Bitcoin Price\n",
    "2. Filter English Tweets without Duplicate\n",
    "3. Tweets Pre-processing\n",
    "4. Creating Vader and Textblob Features\n",
    "5. Creating Twitter Volume Feature\n",
    "6. Final Twitter data\n",
    "7. Combine Twitter and Crypto Price Data\n",
    "8. Creating Lag Feature\n",
    "9. Modeling\n",
    "    - Linear Regression\n",
    "    - XGBoost\n",
    "    - Random Forest"
   ]
  },
  {
   "cell_type": "markdown",
   "metadata": {},
   "source": []
  },
  {
   "cell_type": "markdown",
   "metadata": {},
   "source": [
    "### Background\n",
    "Cryptocurrency is one of the most volatile instrument and just like any stock prediction, it is very hard to predict future price, especially with the lack of regulatory system in place compared to stock. There are few ways that can be done on predicting crypto price: technical analysis, fundamental analysis and sentiment analysis.\n",
    "\n",
    "The latter one remains abstract as it is dealing with traders emotion that can trigger panic selling/ purchasing spree based on expectations and perceptions. Twitter has been a platform to discuss this and from previous studies done, social media activity of significant individuals indeed can sway public opinion. Tweets from significant individuals can shift the price which happens a few times like when Elon tweeted about not accepting Bitcoin payment in May'22 that caused the price to plump by 10%  Therefore, **we would like to bring a tool to help retail investor shorten the time spent on doing sentiment analysis**, rather than keeping up on all the tweets for hours a day, we can spend the remaining time building an edge on the technical or fundamental side."
   ]
  },
  {
   "cell_type": "markdown",
   "metadata": {},
   "source": [
    "### Problem Statement\n",
    "creating a model that helps retail investor to **make better informed decision based** on twitter sentiments and volume along with basic technical analysis\n"
   ]
  },
  {
   "cell_type": "code",
   "execution_count": 2,
   "metadata": {},
   "outputs": [
    {
     "name": "stdout",
     "output_type": "stream",
     "text": [
      "[*********************100%***********************]  1 of 1 completed\n"
     ]
    },
    {
     "data": {
      "text/html": [
       "<div>\n",
       "<style scoped>\n",
       "    .dataframe tbody tr th:only-of-type {\n",
       "        vertical-align: middle;\n",
       "    }\n",
       "\n",
       "    .dataframe tbody tr th {\n",
       "        vertical-align: top;\n",
       "    }\n",
       "\n",
       "    .dataframe thead th {\n",
       "        text-align: right;\n",
       "    }\n",
       "</style>\n",
       "<table border=\"1\" class=\"dataframe\">\n",
       "  <thead>\n",
       "    <tr style=\"text-align: right;\">\n",
       "      <th></th>\n",
       "      <th>Open</th>\n",
       "      <th>High</th>\n",
       "      <th>Low</th>\n",
       "      <th>Close</th>\n",
       "      <th>Adj Close</th>\n",
       "      <th>Volume</th>\n",
       "    </tr>\n",
       "    <tr>\n",
       "      <th>Date</th>\n",
       "      <th></th>\n",
       "      <th></th>\n",
       "      <th></th>\n",
       "      <th></th>\n",
       "      <th></th>\n",
       "      <th></th>\n",
       "    </tr>\n",
       "  </thead>\n",
       "  <tbody>\n",
       "    <tr>\n",
       "      <th>2016-01-01</th>\n",
       "      <td>430.721008</td>\n",
       "      <td>436.246002</td>\n",
       "      <td>427.515015</td>\n",
       "      <td>434.334015</td>\n",
       "      <td>434.334015</td>\n",
       "      <td>36278900</td>\n",
       "    </tr>\n",
       "    <tr>\n",
       "      <th>2016-01-02</th>\n",
       "      <td>434.622009</td>\n",
       "      <td>436.062012</td>\n",
       "      <td>431.869995</td>\n",
       "      <td>433.437988</td>\n",
       "      <td>433.437988</td>\n",
       "      <td>30096600</td>\n",
       "    </tr>\n",
       "    <tr>\n",
       "      <th>2016-01-03</th>\n",
       "      <td>433.578003</td>\n",
       "      <td>433.743011</td>\n",
       "      <td>424.705994</td>\n",
       "      <td>430.010986</td>\n",
       "      <td>430.010986</td>\n",
       "      <td>39633800</td>\n",
       "    </tr>\n",
       "    <tr>\n",
       "      <th>2016-01-04</th>\n",
       "      <td>430.061005</td>\n",
       "      <td>434.516998</td>\n",
       "      <td>429.084015</td>\n",
       "      <td>433.091003</td>\n",
       "      <td>433.091003</td>\n",
       "      <td>38477500</td>\n",
       "    </tr>\n",
       "    <tr>\n",
       "      <th>2016-01-05</th>\n",
       "      <td>433.069000</td>\n",
       "      <td>434.182007</td>\n",
       "      <td>429.675995</td>\n",
       "      <td>431.959991</td>\n",
       "      <td>431.959991</td>\n",
       "      <td>34522600</td>\n",
       "    </tr>\n",
       "  </tbody>\n",
       "</table>\n",
       "</div>"
      ],
      "text/plain": [
       "                  Open        High         Low       Close   Adj Close  \\\n",
       "Date                                                                     \n",
       "2016-01-01  430.721008  436.246002  427.515015  434.334015  434.334015   \n",
       "2016-01-02  434.622009  436.062012  431.869995  433.437988  433.437988   \n",
       "2016-01-03  433.578003  433.743011  424.705994  430.010986  430.010986   \n",
       "2016-01-04  430.061005  434.516998  429.084015  433.091003  433.091003   \n",
       "2016-01-05  433.069000  434.182007  429.675995  431.959991  431.959991   \n",
       "\n",
       "              Volume  \n",
       "Date                  \n",
       "2016-01-01  36278900  \n",
       "2016-01-02  30096600  \n",
       "2016-01-03  39633800  \n",
       "2016-01-04  38477500  \n",
       "2016-01-05  34522600  "
      ]
     },
     "execution_count": 2,
     "metadata": {},
     "output_type": "execute_result"
    }
   ],
   "source": [
    "#importing libraries\n",
    "import pandas as pd\n",
    "from datetime import datetime\n",
    "#from datetime import timedelta\n",
    "import datetime as dt\n",
    "import yfinance as yfin\n",
    "import pandas_datareader.data as pdr\n",
    "\n",
    "#from yahoo finance\n",
    "yfin.pdr_override()\n",
    "crypto = 'BTC'\n",
    "against_currency = 'USD'\n",
    "\n",
    "start = dt.datetime(2016,1,1)\n",
    "end = dt.datetime.now()\n",
    "\n",
    "df = pdr.get_data_yahoo(\"BTC-USD\", start, end)\n",
    "df.head()"
   ]
  },
  {
   "cell_type": "markdown",
   "metadata": {},
   "source": [
    "### Datasets Overview\n",
    "Bitcoin historical data is obtained from [Kaggle](https://www.kaggle.com/datasets/mczielinski/bitcoin-historical-data?resource=download) or can be found from yahoo finance pandas readrr\n",
    "- Timestamp: Start time of time window (60s) in Unix Time\n",
    "    - Unix Time: the number of seconds that have elapsed since the Unix epoch (00:00:00 UTC (Coordinated Universal Time) on 1 January 1970.)\n",
    "- Open: Open price at start of time window\n",
    "- High: High price within time window\n",
    "- Low: Low price within time window\n",
    "- Close: Close price at the end of time window\n",
    "- Volume_(BTC): Volume of BTC transacted in this window\n",
    "- Volume_(Currency): Volume of corresponding currency transacted in this window\n",
    "- Weighted_Price: Volume Weighted Average Price (VWAP)"
   ]
  },
  {
   "cell_type": "code",
   "execution_count": 5,
   "metadata": {},
   "outputs": [
    {
     "data": {
      "text/html": [
       "<div>\n",
       "<style scoped>\n",
       "    .dataframe tbody tr th:only-of-type {\n",
       "        vertical-align: middle;\n",
       "    }\n",
       "\n",
       "    .dataframe tbody tr th {\n",
       "        vertical-align: top;\n",
       "    }\n",
       "\n",
       "    .dataframe thead th {\n",
       "        text-align: right;\n",
       "    }\n",
       "</style>\n",
       "<table border=\"1\" class=\"dataframe\">\n",
       "  <thead>\n",
       "    <tr style=\"text-align: right;\">\n",
       "      <th></th>\n",
       "      <th>Open</th>\n",
       "      <th>High</th>\n",
       "      <th>Low</th>\n",
       "      <th>Close</th>\n",
       "      <th>Volume_(BTC)</th>\n",
       "      <th>Volume_(Currency)</th>\n",
       "      <th>Weighted_Price</th>\n",
       "      <th>timestamp</th>\n",
       "    </tr>\n",
       "  </thead>\n",
       "  <tbody>\n",
       "    <tr>\n",
       "      <th>2097856</th>\n",
       "      <td>423.52</td>\n",
       "      <td>423.52</td>\n",
       "      <td>423.51</td>\n",
       "      <td>423.51</td>\n",
       "      <td>1.159208</td>\n",
       "      <td>490.946953</td>\n",
       "      <td>423.519330</td>\n",
       "      <td>2016-01-01 00:00:00</td>\n",
       "    </tr>\n",
       "    <tr>\n",
       "      <th>2097857</th>\n",
       "      <td>423.25</td>\n",
       "      <td>423.25</td>\n",
       "      <td>423.24</td>\n",
       "      <td>423.24</td>\n",
       "      <td>0.120280</td>\n",
       "      <td>50.907951</td>\n",
       "      <td>423.245349</td>\n",
       "      <td>2016-01-01 00:01:00</td>\n",
       "    </tr>\n",
       "    <tr>\n",
       "      <th>2097858</th>\n",
       "      <td>423.27</td>\n",
       "      <td>423.27</td>\n",
       "      <td>423.27</td>\n",
       "      <td>423.27</td>\n",
       "      <td>0.023560</td>\n",
       "      <td>9.972241</td>\n",
       "      <td>423.270000</td>\n",
       "      <td>2016-01-01 00:02:00</td>\n",
       "    </tr>\n",
       "    <tr>\n",
       "      <th>2097859</th>\n",
       "      <td>NaN</td>\n",
       "      <td>NaN</td>\n",
       "      <td>NaN</td>\n",
       "      <td>NaN</td>\n",
       "      <td>NaN</td>\n",
       "      <td>NaN</td>\n",
       "      <td>NaN</td>\n",
       "      <td>2016-01-01 00:03:00</td>\n",
       "    </tr>\n",
       "    <tr>\n",
       "      <th>2097860</th>\n",
       "      <td>NaN</td>\n",
       "      <td>NaN</td>\n",
       "      <td>NaN</td>\n",
       "      <td>NaN</td>\n",
       "      <td>NaN</td>\n",
       "      <td>NaN</td>\n",
       "      <td>NaN</td>\n",
       "      <td>2016-01-01 00:04:00</td>\n",
       "    </tr>\n",
       "  </tbody>\n",
       "</table>\n",
       "</div>"
      ],
      "text/plain": [
       "           Open    High     Low   Close  Volume_(BTC)  Volume_(Currency)  \\\n",
       "2097856  423.52  423.52  423.51  423.51      1.159208         490.946953   \n",
       "2097857  423.25  423.25  423.24  423.24      0.120280          50.907951   \n",
       "2097858  423.27  423.27  423.27  423.27      0.023560           9.972241   \n",
       "2097859     NaN     NaN     NaN     NaN           NaN                NaN   \n",
       "2097860     NaN     NaN     NaN     NaN           NaN                NaN   \n",
       "\n",
       "         Weighted_Price           timestamp  \n",
       "2097856      423.519330 2016-01-01 00:00:00  \n",
       "2097857      423.245349 2016-01-01 00:01:00  \n",
       "2097858      423.270000 2016-01-01 00:02:00  \n",
       "2097859             NaN 2016-01-01 00:03:00  \n",
       "2097860             NaN 2016-01-01 00:04:00  "
      ]
     },
     "execution_count": 5,
     "metadata": {},
     "output_type": "execute_result"
    }
   ],
   "source": [
    "btc = pd.read_csv('../data/bitcoin_data.csv')\n",
    "#cleaning up the Unix timestamp to datetime\n",
    "btc['timestamp'] = btc['Timestamp'].apply(lambda x: datetime.fromtimestamp(x)) \n",
    "#taking those dates between 1st Jan 2016 to 31st Dec 2017\n",
    "btc = btc[(btc['timestamp'] >= '2016-01-01') & (btc['timestamp'] <= '2017-12-31')]\n",
    "btc.drop(columns='Timestamp',inplace=True)\n",
    "btc.head() #data is still by minute"
   ]
  },
  {
   "cell_type": "code",
   "execution_count": 7,
   "metadata": {},
   "outputs": [],
   "source": [
    "btc.to_csv('../data/1-bitcoin_data.csv')"
   ]
  }
 ],
 "metadata": {
  "kernelspec": {
   "display_name": "Python 3.10.6 64-bit",
   "language": "python",
   "name": "python3"
  },
  "language_info": {
   "codemirror_mode": {
    "name": "ipython",
    "version": 3
   },
   "file_extension": ".py",
   "mimetype": "text/x-python",
   "name": "python",
   "nbconvert_exporter": "python",
   "pygments_lexer": "ipython3",
   "version": "3.10.6"
  },
  "orig_nbformat": 4,
  "vscode": {
   "interpreter": {
    "hash": "aee8b7b246df8f9039afb4144a1f6fd8d2ca17a180786b69acc140d282b71a49"
   }
  }
 },
 "nbformat": 4,
 "nbformat_minor": 2
}
