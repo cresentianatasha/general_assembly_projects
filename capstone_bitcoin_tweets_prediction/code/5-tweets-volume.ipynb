{
 "cells": [
  {
   "cell_type": "code",
   "execution_count": 1,
   "metadata": {},
   "outputs": [],
   "source": [
    "import pandas as pd\n",
    "import numpy as np"
   ]
  },
  {
   "cell_type": "code",
   "execution_count": 6,
   "metadata": {},
   "outputs": [
    {
     "data": {
      "text/html": [
       "<div>\n",
       "<style scoped>\n",
       "    .dataframe tbody tr th:only-of-type {\n",
       "        vertical-align: middle;\n",
       "    }\n",
       "\n",
       "    .dataframe tbody tr th {\n",
       "        vertical-align: top;\n",
       "    }\n",
       "\n",
       "    .dataframe thead th {\n",
       "        text-align: right;\n",
       "    }\n",
       "</style>\n",
       "<table border=\"1\" class=\"dataframe\">\n",
       "  <thead>\n",
       "    <tr style=\"text-align: right;\">\n",
       "      <th></th>\n",
       "      <th>timestamp</th>\n",
       "      <th>text</th>\n",
       "    </tr>\n",
       "  </thead>\n",
       "  <tbody>\n",
       "    <tr>\n",
       "      <th>0</th>\n",
       "      <td>2016-01-01 00:00:04+00:00</td>\n",
       "      <td>Current price 43105 BTCUSD btc bitcoin 2015123...</td>\n",
       "    </tr>\n",
       "    <tr>\n",
       "      <th>1</th>\n",
       "      <td>2016-01-01 00:00:05+00:00</td>\n",
       "      <td>Current price 39605 € BTCEUR btc bitcoin 20160...</td>\n",
       "    </tr>\n",
       "    <tr>\n",
       "      <th>2</th>\n",
       "      <td>2016-01-01 00:00:05+00:00</td>\n",
       "      <td>Current price 29177 £ BTCGBP btc bitcoin 20160...</td>\n",
       "    </tr>\n",
       "    <tr>\n",
       "      <th>3</th>\n",
       "      <td>2016-01-01 00:00:53+00:00</td>\n",
       "      <td>RDD BTC exchange Cryptsy 00000000 4 Bittrex 00...</td>\n",
       "    </tr>\n",
       "    <tr>\n",
       "      <th>4</th>\n",
       "      <td>2016-01-01 00:02:32+00:00</td>\n",
       "      <td>RDD BTC exchange Cryptsy 00000000 4 Bittrex 00...</td>\n",
       "    </tr>\n",
       "  </tbody>\n",
       "</table>\n",
       "</div>"
      ],
      "text/plain": [
       "                  timestamp                                               text\n",
       "0 2016-01-01 00:00:04+00:00  Current price 43105 BTCUSD btc bitcoin 2015123...\n",
       "1 2016-01-01 00:00:05+00:00  Current price 39605 € BTCEUR btc bitcoin 20160...\n",
       "2 2016-01-01 00:00:05+00:00  Current price 29177 £ BTCGBP btc bitcoin 20160...\n",
       "3 2016-01-01 00:00:53+00:00  RDD BTC exchange Cryptsy 00000000 4 Bittrex 00...\n",
       "4 2016-01-01 00:02:32+00:00  RDD BTC exchange Cryptsy 00000000 4 Bittrex 00..."
      ]
     },
     "execution_count": 6,
     "metadata": {},
     "output_type": "execute_result"
    }
   ],
   "source": [
    "tw_df = pd.read_csv('../data/3-preprocessed_tweets.csv')\n",
    "tw_df.drop(columns='Unnamed: 0',inplace=True)\n",
    "tw_df['timestamp'] = pd.to_datetime(tw_df['timestamp'])\n",
    "tw_df.head()"
   ]
  },
  {
   "cell_type": "code",
   "execution_count": 7,
   "metadata": {},
   "outputs": [
    {
     "name": "stdout",
     "output_type": "stream",
     "text": [
      "<class 'pandas.core.frame.DataFrame'>\n",
      "RangeIndex: 702027 entries, 0 to 702026\n",
      "Data columns (total 2 columns):\n",
      " #   Column     Non-Null Count   Dtype              \n",
      "---  ------     --------------   -----              \n",
      " 0   timestamp  702027 non-null  datetime64[ns, UTC]\n",
      " 1   text       702027 non-null  object             \n",
      "dtypes: datetime64[ns, UTC](1), object(1)\n",
      "memory usage: 10.7+ MB\n"
     ]
    }
   ],
   "source": [
    "tw_df.info()"
   ]
  },
  {
   "cell_type": "code",
   "execution_count": 23,
   "metadata": {},
   "outputs": [
    {
     "name": "stdout",
     "output_type": "stream",
     "text": [
      "There are 730 rows for tweet volume datetime index\n"
     ]
    },
    {
     "data": {
      "text/html": [
       "<div>\n",
       "<style scoped>\n",
       "    .dataframe tbody tr th:only-of-type {\n",
       "        vertical-align: middle;\n",
       "    }\n",
       "\n",
       "    .dataframe tbody tr th {\n",
       "        vertical-align: top;\n",
       "    }\n",
       "\n",
       "    .dataframe thead th {\n",
       "        text-align: right;\n",
       "    }\n",
       "</style>\n",
       "<table border=\"1\" class=\"dataframe\">\n",
       "  <thead>\n",
       "    <tr style=\"text-align: right;\">\n",
       "      <th></th>\n",
       "      <th>text</th>\n",
       "    </tr>\n",
       "    <tr>\n",
       "      <th>timestamp</th>\n",
       "      <th></th>\n",
       "    </tr>\n",
       "  </thead>\n",
       "  <tbody>\n",
       "    <tr>\n",
       "      <th>2016-01-01 00:00:00+00:00</th>\n",
       "      <td>662</td>\n",
       "    </tr>\n",
       "    <tr>\n",
       "      <th>2016-01-02 00:00:00+00:00</th>\n",
       "      <td>619</td>\n",
       "    </tr>\n",
       "    <tr>\n",
       "      <th>2016-01-03 00:00:00+00:00</th>\n",
       "      <td>443</td>\n",
       "    </tr>\n",
       "    <tr>\n",
       "      <th>2016-01-04 00:00:00+00:00</th>\n",
       "      <td>480</td>\n",
       "    </tr>\n",
       "    <tr>\n",
       "      <th>2016-01-05 00:00:00+00:00</th>\n",
       "      <td>448</td>\n",
       "    </tr>\n",
       "  </tbody>\n",
       "</table>\n",
       "</div>"
      ],
      "text/plain": [
       "                           text\n",
       "timestamp                      \n",
       "2016-01-01 00:00:00+00:00   662\n",
       "2016-01-02 00:00:00+00:00   619\n",
       "2016-01-03 00:00:00+00:00   443\n",
       "2016-01-04 00:00:00+00:00   480\n",
       "2016-01-05 00:00:00+00:00   448"
      ]
     },
     "execution_count": 23,
     "metadata": {},
     "output_type": "execute_result"
    }
   ],
   "source": [
    "#creating volume of tweet features\n",
    "tw_vol_d = pd.DataFrame(tw_df.resample('D', on='timestamp').text.count())\n",
    "tw_vol_d.rename(columns={'text':'tweet_volume'})\n",
    "print(f'There are {tw_vol_d.shape[0]} rows for tweet volume datetime index')\n",
    "tw_vol_d.head()"
   ]
  },
  {
   "cell_type": "code",
   "execution_count": 24,
   "metadata": {},
   "outputs": [],
   "source": [
    "tw_vol_d.to_csv('../data/5-tweets-volume-day.csv')"
   ]
  },
  {
   "cell_type": "code",
   "execution_count": 20,
   "metadata": {},
   "outputs": [
    {
     "name": "stdout",
     "output_type": "stream",
     "text": [
      "There are 17520 rows for tweet volume datetime index\n"
     ]
    },
    {
     "data": {
      "text/html": [
       "<div>\n",
       "<style scoped>\n",
       "    .dataframe tbody tr th:only-of-type {\n",
       "        vertical-align: middle;\n",
       "    }\n",
       "\n",
       "    .dataframe tbody tr th {\n",
       "        vertical-align: top;\n",
       "    }\n",
       "\n",
       "    .dataframe thead th {\n",
       "        text-align: right;\n",
       "    }\n",
       "</style>\n",
       "<table border=\"1\" class=\"dataframe\">\n",
       "  <thead>\n",
       "    <tr style=\"text-align: right;\">\n",
       "      <th></th>\n",
       "      <th>text</th>\n",
       "    </tr>\n",
       "    <tr>\n",
       "      <th>timestamp</th>\n",
       "      <th></th>\n",
       "    </tr>\n",
       "  </thead>\n",
       "  <tbody>\n",
       "    <tr>\n",
       "      <th>2016-01-01 00:00:00+00:00</th>\n",
       "      <td>12</td>\n",
       "    </tr>\n",
       "    <tr>\n",
       "      <th>2016-01-01 01:00:00+00:00</th>\n",
       "      <td>20</td>\n",
       "    </tr>\n",
       "    <tr>\n",
       "      <th>2016-01-01 02:00:00+00:00</th>\n",
       "      <td>18</td>\n",
       "    </tr>\n",
       "    <tr>\n",
       "      <th>2016-01-01 03:00:00+00:00</th>\n",
       "      <td>22</td>\n",
       "    </tr>\n",
       "    <tr>\n",
       "      <th>2016-01-01 04:00:00+00:00</th>\n",
       "      <td>26</td>\n",
       "    </tr>\n",
       "  </tbody>\n",
       "</table>\n",
       "</div>"
      ],
      "text/plain": [
       "                           text\n",
       "timestamp                      \n",
       "2016-01-01 00:00:00+00:00    12\n",
       "2016-01-01 01:00:00+00:00    20\n",
       "2016-01-01 02:00:00+00:00    18\n",
       "2016-01-01 03:00:00+00:00    22\n",
       "2016-01-01 04:00:00+00:00    26"
      ]
     },
     "execution_count": 20,
     "metadata": {},
     "output_type": "execute_result"
    }
   ],
   "source": [
    "tw_vol_h = pd.DataFrame(tw_df.resample('H', on='timestamp').text.count())\n",
    "tw_vol_h.rename(columns={'text':'tweet_volume'})\n",
    "print(f'There are {tw_vol_h.shape[0]} rows for tweet volume datetime index')\n",
    "tw_vol_h.head()"
   ]
  },
  {
   "cell_type": "code",
   "execution_count": 21,
   "metadata": {},
   "outputs": [],
   "source": [
    "tw_vol_h.to_csv('../data/5-tweets-volume-hour.csv')"
   ]
  }
 ],
 "metadata": {
  "kernelspec": {
   "display_name": "Python 3.10.6 64-bit",
   "language": "python",
   "name": "python3"
  },
  "language_info": {
   "codemirror_mode": {
    "name": "ipython",
    "version": 3
   },
   "file_extension": ".py",
   "mimetype": "text/x-python",
   "name": "python",
   "nbconvert_exporter": "python",
   "pygments_lexer": "ipython3",
   "version": "3.10.6"
  },
  "orig_nbformat": 4,
  "vscode": {
   "interpreter": {
    "hash": "aee8b7b246df8f9039afb4144a1f6fd8d2ca17a180786b69acc140d282b71a49"
   }
  }
 },
 "nbformat": 4,
 "nbformat_minor": 2
}
